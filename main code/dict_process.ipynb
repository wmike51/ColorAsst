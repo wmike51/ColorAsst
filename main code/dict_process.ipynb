{
 "cells": [
  {
   "cell_type": "code",
   "execution_count": 1,
   "metadata": {},
   "outputs": [],
   "source": [
    "import pandas as pd\n",
    "import numpy as np\n",
    "from dict_func import dict_extraction\n",
    "from dict_func import dict_summary"
   ]
  },
  {
   "cell_type": "code",
   "execution_count": 2,
   "metadata": {},
   "outputs": [],
   "source": [
    "common_colors_g = [\"black\", \"white\", \"red\", \"green\", \"yellow\", \"blue\", \"brown\", \"orange\", \"pink\", \"purple\", \"gray\", \"grey\"]\n",
    "common_colors = [\"black\", \"white\", \"red\", \"green\", \"yellow\", \"blue\", \"brown\", \"orange\", \"pink\", \"purple\", \"gray\"]\n"
   ]
  },
  {
   "cell_type": "code",
   "execution_count": 3,
   "metadata": {},
   "outputs": [
    {
     "data": {
      "text/html": [
       "<div>\n",
       "<style scoped>\n",
       "    .dataframe tbody tr th:only-of-type {\n",
       "        vertical-align: middle;\n",
       "    }\n",
       "\n",
       "    .dataframe tbody tr th {\n",
       "        vertical-align: top;\n",
       "    }\n",
       "\n",
       "    .dataframe thead th {\n",
       "        text-align: right;\n",
       "    }\n",
       "</style>\n",
       "<table border=\"1\" class=\"dataframe\">\n",
       "  <thead>\n",
       "    <tr style=\"text-align: right;\">\n",
       "      <th></th>\n",
       "      <th>ColorName</th>\n",
       "      <th>R</th>\n",
       "      <th>G</th>\n",
       "      <th>B</th>\n",
       "    </tr>\n",
       "  </thead>\n",
       "  <tbody>\n",
       "    <tr>\n",
       "      <th>0</th>\n",
       "      <td>Resene Abbey</td>\n",
       "      <td>76</td>\n",
       "      <td>79</td>\n",
       "      <td>86</td>\n",
       "    </tr>\n",
       "    <tr>\n",
       "      <th>1</th>\n",
       "      <td>Resene Acadia</td>\n",
       "      <td>27</td>\n",
       "      <td>20</td>\n",
       "      <td>4</td>\n",
       "    </tr>\n",
       "    <tr>\n",
       "      <th>2</th>\n",
       "      <td>Resene Acapulco</td>\n",
       "      <td>124</td>\n",
       "      <td>176</td>\n",
       "      <td>161</td>\n",
       "    </tr>\n",
       "    <tr>\n",
       "      <th>3</th>\n",
       "      <td>Resene Acorn</td>\n",
       "      <td>106</td>\n",
       "      <td>93</td>\n",
       "      <td>27</td>\n",
       "    </tr>\n",
       "    <tr>\n",
       "      <th>4</th>\n",
       "      <td>Resene Aero Blue</td>\n",
       "      <td>201</td>\n",
       "      <td>255</td>\n",
       "      <td>229</td>\n",
       "    </tr>\n",
       "    <tr>\n",
       "      <th>...</th>\n",
       "      <td>...</td>\n",
       "      <td>...</td>\n",
       "      <td>...</td>\n",
       "      <td>...</td>\n",
       "    </tr>\n",
       "    <tr>\n",
       "      <th>1378</th>\n",
       "      <td>Resene Zombie</td>\n",
       "      <td>228</td>\n",
       "      <td>214</td>\n",
       "      <td>155</td>\n",
       "    </tr>\n",
       "    <tr>\n",
       "      <th>1379</th>\n",
       "      <td>Resene Zorba</td>\n",
       "      <td>165</td>\n",
       "      <td>155</td>\n",
       "      <td>145</td>\n",
       "    </tr>\n",
       "    <tr>\n",
       "      <th>1380</th>\n",
       "      <td>Resene Zuccini</td>\n",
       "      <td>4</td>\n",
       "      <td>64</td>\n",
       "      <td>34</td>\n",
       "    </tr>\n",
       "    <tr>\n",
       "      <th>1381</th>\n",
       "      <td>Resene Zumthor</td>\n",
       "      <td>237</td>\n",
       "      <td>246</td>\n",
       "      <td>255</td>\n",
       "    </tr>\n",
       "    <tr>\n",
       "      <th>1382</th>\n",
       "      <td>Resene Zydeco</td>\n",
       "      <td>2</td>\n",
       "      <td>64</td>\n",
       "      <td>44</td>\n",
       "    </tr>\n",
       "  </tbody>\n",
       "</table>\n",
       "<p>1383 rows × 4 columns</p>\n",
       "</div>"
      ],
      "text/plain": [
       "             ColorName    R    G    B\n",
       "0         Resene Abbey   76   79   86\n",
       "1        Resene Acadia   27   20    4\n",
       "2      Resene Acapulco  124  176  161\n",
       "3         Resene Acorn  106   93   27\n",
       "4     Resene Aero Blue  201  255  229\n",
       "...                ...  ...  ...  ...\n",
       "1378     Resene Zombie  228  214  155\n",
       "1379      Resene Zorba  165  155  145\n",
       "1380    Resene Zuccini    4   64   34\n",
       "1381    Resene Zumthor  237  246  255\n",
       "1382     Resene Zydeco    2   64   44\n",
       "\n",
       "[1383 rows x 4 columns]"
      ]
     },
     "execution_count": 3,
     "metadata": {},
     "output_type": "execute_result"
    }
   ],
   "source": [
    "\n",
    "df = pd.read_csv('dict/resenecolours.csv')\n",
    "df = df.drop(df.index[range(0, 26)])\n",
    "df = df.reset_index(drop=True)\n",
    "df.columns = ['ColorName', 'R', 'G', 'B']\n",
    "#colorNames = df['ColorName']\n",
    "#resenecolours = colorNames.to_numpy()\n",
    "#resenecolours\n",
    "resene= df\n",
    "resene\n",
    "\n"
   ]
  },
  {
   "cell_type": "code",
   "execution_count": 4,
   "metadata": {},
   "outputs": [
    {
     "name": "stdout",
     "output_type": "stream",
     "text": [
      "[15, 36, 19, 58, 8, 59, 17, 3, 26, 3, 0]\n"
     ]
    }
   ],
   "source": [
    "resene_extracted = dict_extraction(resene)\n",
    "print(dict_summary(resene_extracted))"
   ]
  },
  {
   "cell_type": "code",
   "execution_count": 5,
   "metadata": {},
   "outputs": [
    {
     "data": {
      "text/html": [
       "<div>\n",
       "<style scoped>\n",
       "    .dataframe tbody tr th:only-of-type {\n",
       "        vertical-align: middle;\n",
       "    }\n",
       "\n",
       "    .dataframe tbody tr th {\n",
       "        vertical-align: top;\n",
       "    }\n",
       "\n",
       "    .dataframe thead th {\n",
       "        text-align: right;\n",
       "    }\n",
       "</style>\n",
       "<table border=\"1\" class=\"dataframe\">\n",
       "  <thead>\n",
       "    <tr style=\"text-align: right;\">\n",
       "      <th></th>\n",
       "      <th>ColorName</th>\n",
       "      <th>R</th>\n",
       "      <th>G</th>\n",
       "      <th>B</th>\n",
       "    </tr>\n",
       "  </thead>\n",
       "  <tbody>\n",
       "    <tr>\n",
       "      <th>0</th>\n",
       "      <td>verydarkbluishgreen</td>\n",
       "      <td>0</td>\n",
       "      <td>42</td>\n",
       "      <td>41</td>\n",
       "    </tr>\n",
       "    <tr>\n",
       "      <th>1</th>\n",
       "      <td>verydarkgreenishblue</td>\n",
       "      <td>0</td>\n",
       "      <td>46</td>\n",
       "      <td>59</td>\n",
       "    </tr>\n",
       "    <tr>\n",
       "      <th>2</th>\n",
       "      <td>darkgreenishblue</td>\n",
       "      <td>0</td>\n",
       "      <td>73</td>\n",
       "      <td>88</td>\n",
       "    </tr>\n",
       "    <tr>\n",
       "      <th>3</th>\n",
       "      <td>darkbluishgreen</td>\n",
       "      <td>0</td>\n",
       "      <td>75</td>\n",
       "      <td>73</td>\n",
       "    </tr>\n",
       "    <tr>\n",
       "      <th>4</th>\n",
       "      <td>deepbluishgreen</td>\n",
       "      <td>0</td>\n",
       "      <td>68</td>\n",
       "      <td>63</td>\n",
       "    </tr>\n",
       "    <tr>\n",
       "      <th>...</th>\n",
       "      <td>...</td>\n",
       "      <td>...</td>\n",
       "      <td>...</td>\n",
       "      <td>...</td>\n",
       "    </tr>\n",
       "    <tr>\n",
       "      <th>261</th>\n",
       "      <td>deeppurplishred</td>\n",
       "      <td>120</td>\n",
       "      <td>24</td>\n",
       "      <td>74</td>\n",
       "    </tr>\n",
       "    <tr>\n",
       "      <th>262</th>\n",
       "      <td>deepred</td>\n",
       "      <td>132</td>\n",
       "      <td>27</td>\n",
       "      <td>45</td>\n",
       "    </tr>\n",
       "    <tr>\n",
       "      <th>263</th>\n",
       "      <td>verydeepred</td>\n",
       "      <td>92</td>\n",
       "      <td>9</td>\n",
       "      <td>35</td>\n",
       "    </tr>\n",
       "    <tr>\n",
       "      <th>264</th>\n",
       "      <td>deepreddishpurple</td>\n",
       "      <td>112</td>\n",
       "      <td>41</td>\n",
       "      <td>99</td>\n",
       "    </tr>\n",
       "    <tr>\n",
       "      <th>265</th>\n",
       "      <td>vividreddishpurple</td>\n",
       "      <td>135</td>\n",
       "      <td>0</td>\n",
       "      <td>116</td>\n",
       "    </tr>\n",
       "  </tbody>\n",
       "</table>\n",
       "<p>266 rows × 4 columns</p>\n",
       "</div>"
      ],
      "text/plain": [
       "                ColorName    R   G    B\n",
       "0     verydarkbluishgreen    0  42   41\n",
       "1    verydarkgreenishblue    0  46   59\n",
       "2        darkgreenishblue    0  73   88\n",
       "3         darkbluishgreen    0  75   73\n",
       "4         deepbluishgreen    0  68   63\n",
       "..                    ...  ...  ..  ...\n",
       "261       deeppurplishred  120  24   74\n",
       "262               deepred  132  27   45\n",
       "263           verydeepred   92   9   35\n",
       "264     deepreddishpurple  112  41   99\n",
       "265    vividreddishpurple  135   0  116\n",
       "\n",
       "[266 rows x 4 columns]"
      ]
     },
     "execution_count": 5,
     "metadata": {},
     "output_type": "execute_result"
    }
   ],
   "source": [
    "df = pd.read_csv('dict/NBS-ISCC-rgb.csv')\n",
    "df = df.drop(columns = [\"Centroids\", \"http://tx4.us/nbs-iscc.htm\"])\n",
    "df = df.rename(columns={'Unnamed: 0' : 'R', 'NBS/ISCC' : 'G', 'Color': 'B', 'System': 'ColorName'})\n",
    "df = df.drop(df.index[range(0, 9)])\n",
    "df = df.loc[:, ~df.columns.str.contains('^Unnamed')]\n",
    "df = df.reset_index(drop=True)\n",
    "\n",
    "\n",
    "#colorNames = df['ColorName']\n",
    "#nbs = colorNames.to_numpy()\n",
    "cols = df.columns.tolist()\n",
    "cols = cols[-1:] + cols[:-1]\n",
    "df = df[cols]\n",
    "NBS =  df\n",
    "NBS"
   ]
  },
  {
   "cell_type": "code",
   "execution_count": 6,
   "metadata": {},
   "outputs": [
    {
     "name": "stdout",
     "output_type": "stream",
     "text": [
      "[4, 3, 16, 26, 34, 30, 19, 20, 23, 22, 56]\n"
     ]
    }
   ],
   "source": [
    "NBS_extracted = dict_extraction(NBS)\n",
    "print(dict_summary(NBS_extracted))"
   ]
  },
  {
   "cell_type": "code",
   "execution_count": 7,
   "metadata": {},
   "outputs": [
    {
     "data": {
      "text/html": [
       "<div>\n",
       "<style scoped>\n",
       "    .dataframe tbody tr th:only-of-type {\n",
       "        vertical-align: middle;\n",
       "    }\n",
       "\n",
       "    .dataframe tbody tr th {\n",
       "        vertical-align: top;\n",
       "    }\n",
       "\n",
       "    .dataframe thead th {\n",
       "        text-align: right;\n",
       "    }\n",
       "</style>\n",
       "<table border=\"1\" class=\"dataframe\">\n",
       "  <thead>\n",
       "    <tr style=\"text-align: right;\">\n",
       "      <th></th>\n",
       "      <th>ColorName</th>\n",
       "      <th>R</th>\n",
       "      <th>G</th>\n",
       "      <th>B</th>\n",
       "    </tr>\n",
       "  </thead>\n",
       "  <tbody>\n",
       "    <tr>\n",
       "      <th>0</th>\n",
       "      <td>red</td>\n",
       "      <td>255</td>\n",
       "      <td>0</td>\n",
       "      <td>0</td>\n",
       "    </tr>\n",
       "    <tr>\n",
       "      <th>1</th>\n",
       "      <td>reddish orange</td>\n",
       "      <td>255</td>\n",
       "      <td>57</td>\n",
       "      <td>0</td>\n",
       "    </tr>\n",
       "    <tr>\n",
       "      <th>2</th>\n",
       "      <td>orange</td>\n",
       "      <td>255</td>\n",
       "      <td>128</td>\n",
       "      <td>0</td>\n",
       "    </tr>\n",
       "    <tr>\n",
       "      <th>3</th>\n",
       "      <td>yellowish orange</td>\n",
       "      <td>244</td>\n",
       "      <td>164</td>\n",
       "      <td>0</td>\n",
       "    </tr>\n",
       "    <tr>\n",
       "      <th>4</th>\n",
       "      <td>yellow</td>\n",
       "      <td>225</td>\n",
       "      <td>182</td>\n",
       "      <td>0</td>\n",
       "    </tr>\n",
       "    <tr>\n",
       "      <th>5</th>\n",
       "      <td>greenish yellow</td>\n",
       "      <td>202</td>\n",
       "      <td>198</td>\n",
       "      <td>0</td>\n",
       "    </tr>\n",
       "    <tr>\n",
       "      <th>6</th>\n",
       "      <td>yellow green</td>\n",
       "      <td>110</td>\n",
       "      <td>235</td>\n",
       "      <td>0</td>\n",
       "    </tr>\n",
       "    <tr>\n",
       "      <th>7</th>\n",
       "      <td>yellowish green</td>\n",
       "      <td>0</td>\n",
       "      <td>255</td>\n",
       "      <td>0</td>\n",
       "    </tr>\n",
       "    <tr>\n",
       "      <th>8</th>\n",
       "      <td>green</td>\n",
       "      <td>0</td>\n",
       "      <td>255</td>\n",
       "      <td>111</td>\n",
       "    </tr>\n",
       "    <tr>\n",
       "      <th>9</th>\n",
       "      <td>bluish green</td>\n",
       "      <td>0</td>\n",
       "      <td>194</td>\n",
       "      <td>238</td>\n",
       "    </tr>\n",
       "    <tr>\n",
       "      <th>10</th>\n",
       "      <td>blue green</td>\n",
       "      <td>0</td>\n",
       "      <td>157</td>\n",
       "      <td>253</td>\n",
       "    </tr>\n",
       "    <tr>\n",
       "      <th>11</th>\n",
       "      <td>greenish blue</td>\n",
       "      <td>0</td>\n",
       "      <td>120</td>\n",
       "      <td>255</td>\n",
       "    </tr>\n",
       "    <tr>\n",
       "      <th>12</th>\n",
       "      <td>blue</td>\n",
       "      <td>0</td>\n",
       "      <td>105</td>\n",
       "      <td>255</td>\n",
       "    </tr>\n",
       "    <tr>\n",
       "      <th>13</th>\n",
       "      <td>purplish blue</td>\n",
       "      <td>0</td>\n",
       "      <td>0</td>\n",
       "      <td>255</td>\n",
       "    </tr>\n",
       "    <tr>\n",
       "      <th>14</th>\n",
       "      <td>bluish purple</td>\n",
       "      <td>126</td>\n",
       "      <td>0</td>\n",
       "      <td>255</td>\n",
       "    </tr>\n",
       "    <tr>\n",
       "      <th>15</th>\n",
       "      <td>purple</td>\n",
       "      <td>170</td>\n",
       "      <td>0</td>\n",
       "      <td>251</td>\n",
       "    </tr>\n",
       "    <tr>\n",
       "      <th>16</th>\n",
       "      <td>reddish purple</td>\n",
       "      <td>216</td>\n",
       "      <td>0</td>\n",
       "      <td>228</td>\n",
       "    </tr>\n",
       "    <tr>\n",
       "      <th>17</th>\n",
       "      <td>red purple</td>\n",
       "      <td>255</td>\n",
       "      <td>0</td>\n",
       "      <td>191</td>\n",
       "    </tr>\n",
       "    <tr>\n",
       "      <th>18</th>\n",
       "      <td>purplish red</td>\n",
       "      <td>255</td>\n",
       "      <td>0</td>\n",
       "      <td>140</td>\n",
       "    </tr>\n",
       "  </tbody>\n",
       "</table>\n",
       "</div>"
      ],
      "text/plain": [
       "           ColorName    R    G    B\n",
       "0                red  255    0    0\n",
       "1     reddish orange  255   57    0\n",
       "2             orange  255  128    0\n",
       "3   yellowish orange  244  164    0\n",
       "4             yellow  225  182    0\n",
       "5    greenish yellow  202  198    0\n",
       "6       yellow green  110  235    0\n",
       "7    yellowish green    0  255    0\n",
       "8              green    0  255  111\n",
       "9       bluish green    0  194  238\n",
       "10        blue green    0  157  253\n",
       "11     greenish blue    0  120  255\n",
       "12              blue    0  105  255\n",
       "13     purplish blue    0    0  255\n",
       "14     bluish purple  126    0  255\n",
       "15            purple  170    0  251\n",
       "16    reddish purple  216    0  228\n",
       "17        red purple  255    0  191\n",
       "18      purplish red  255    0  140"
      ]
     },
     "execution_count": 7,
     "metadata": {},
     "output_type": "execute_result"
    }
   ],
   "source": [
    "df = pd.read_csv('dict/saturate.csv')\n",
    "df = df.drop(df.index[range(0, 21)])\n",
    "df = df.drop(index=40)\n",
    "df = df.rename(columns={';\"saturate.txt\" Saturated-Colors Dictionary.': 'ColorNames', 'Unnamed: 1' : 'X', 'Unnamed: 2' : 'Y', 'Unnamed: 3' : 'Z'})\n",
    "df= df.reset_index(drop=True)\n",
    "\n",
    "\n",
    "\n",
    "from colormath.color_objects import XYZColor, LabColor,sRGBColor\n",
    "from colormath.color_conversions import convert_color\n",
    "\n",
    "saturate = pd.DataFrame(columns=['ColorName', 'R', 'G', 'B'])\n",
    "\n",
    "for index, row in df.iterrows():\n",
    "    xyz_list = [float(row[1]), float(row[2]), float(row[3])]\n",
    "    xyz = XYZColor(*[component for component in xyz_list])\n",
    "    rgb = convert_color(xyz, sRGBColor)\n",
    "    new_row = {'ColorName': row[0], 'R': int(255*rgb.clamped_rgb_r), 'G' : int(255*rgb.clamped_rgb_g), 'B' : int(255*rgb.clamped_rgb_b) }\n",
    "    saturate = saturate.append(new_row, ignore_index= True)\n",
    "\n",
    "saturate\n",
    "\n"
   ]
  },
  {
   "cell_type": "code",
   "execution_count": 8,
   "metadata": {},
   "outputs": [],
   "source": [
    "for i in saturate.R:\n",
    "    if int(i)> 255:\n",
    "        print(i)"
   ]
  },
  {
   "cell_type": "code",
   "execution_count": 9,
   "metadata": {},
   "outputs": [
    {
     "name": "stdout",
     "output_type": "stream",
     "text": [
      "[0, 0, 2, 2, 4, 4, 0, 3, 0, 4, 0]\n"
     ]
    }
   ],
   "source": [
    "saturate_extracted = dict_extraction(saturate)\n",
    "print(dict_summary(saturate_extracted))"
   ]
  },
  {
   "cell_type": "code",
   "execution_count": 10,
   "metadata": {},
   "outputs": [
    {
     "data": {
      "text/html": [
       "<div>\n",
       "<style scoped>\n",
       "    .dataframe tbody tr th:only-of-type {\n",
       "        vertical-align: middle;\n",
       "    }\n",
       "\n",
       "    .dataframe tbody tr th {\n",
       "        vertical-align: top;\n",
       "    }\n",
       "\n",
       "    .dataframe thead th {\n",
       "        text-align: right;\n",
       "    }\n",
       "</style>\n",
       "<table border=\"1\" class=\"dataframe\">\n",
       "  <thead>\n",
       "    <tr style=\"text-align: right;\">\n",
       "      <th></th>\n",
       "      <th>ColorName</th>\n",
       "      <th>R</th>\n",
       "      <th>G</th>\n",
       "      <th>B</th>\n",
       "    </tr>\n",
       "  </thead>\n",
       "  <tbody>\n",
       "    <tr>\n",
       "      <th>0</th>\n",
       "      <td>lamp black light</td>\n",
       "      <td>113</td>\n",
       "      <td>111</td>\n",
       "      <td>104</td>\n",
       "    </tr>\n",
       "    <tr>\n",
       "      <th>1</th>\n",
       "      <td>LampBlackLight</td>\n",
       "      <td>113</td>\n",
       "      <td>111</td>\n",
       "      <td>104</td>\n",
       "    </tr>\n",
       "    <tr>\n",
       "      <th>2</th>\n",
       "      <td>lamp black medium</td>\n",
       "      <td>35</td>\n",
       "      <td>36</td>\n",
       "      <td>36</td>\n",
       "    </tr>\n",
       "    <tr>\n",
       "      <th>3</th>\n",
       "      <td>LampBlackMedium</td>\n",
       "      <td>35</td>\n",
       "      <td>36</td>\n",
       "      <td>36</td>\n",
       "    </tr>\n",
       "    <tr>\n",
       "      <th>4</th>\n",
       "      <td>lamp black dark</td>\n",
       "      <td>26</td>\n",
       "      <td>27</td>\n",
       "      <td>27</td>\n",
       "    </tr>\n",
       "    <tr>\n",
       "      <th>...</th>\n",
       "      <td>...</td>\n",
       "      <td>...</td>\n",
       "      <td>...</td>\n",
       "      <td>...</td>\n",
       "    </tr>\n",
       "    <tr>\n",
       "      <th>595</th>\n",
       "      <td>LemonYellowLight</td>\n",
       "      <td>242</td>\n",
       "      <td>229</td>\n",
       "      <td>148</td>\n",
       "    </tr>\n",
       "    <tr>\n",
       "      <th>596</th>\n",
       "      <td>lemon yellow medium</td>\n",
       "      <td>243</td>\n",
       "      <td>227</td>\n",
       "      <td>113</td>\n",
       "    </tr>\n",
       "    <tr>\n",
       "      <th>597</th>\n",
       "      <td>LemonYellowMedium</td>\n",
       "      <td>243</td>\n",
       "      <td>227</td>\n",
       "      <td>113</td>\n",
       "    </tr>\n",
       "    <tr>\n",
       "      <th>598</th>\n",
       "      <td>lemon yellow dark</td>\n",
       "      <td>244</td>\n",
       "      <td>224</td>\n",
       "      <td>76</td>\n",
       "    </tr>\n",
       "    <tr>\n",
       "      <th>599</th>\n",
       "      <td>LemonYellowDark</td>\n",
       "      <td>244</td>\n",
       "      <td>224</td>\n",
       "      <td>76</td>\n",
       "    </tr>\n",
       "  </tbody>\n",
       "</table>\n",
       "<p>600 rows × 4 columns</p>\n",
       "</div>"
      ],
      "text/plain": [
       "               ColorName    R    G    B\n",
       "0       lamp black light  113  111  104\n",
       "1         LampBlackLight  113  111  104\n",
       "2      lamp black medium   35   36   36\n",
       "3        LampBlackMedium   35   36   36\n",
       "4        lamp black dark   26   27   27\n",
       "..                   ...  ...  ...  ...\n",
       "595     LemonYellowLight  242  229  148\n",
       "596  lemon yellow medium  243  227  113\n",
       "597    LemonYellowMedium  243  227  113\n",
       "598    lemon yellow dark  244  224   76\n",
       "599      LemonYellowDark  244  224   76\n",
       "\n",
       "[600 rows x 4 columns]"
      ]
     },
     "execution_count": 10,
     "metadata": {},
     "output_type": "execute_result"
    }
   ],
   "source": [
    "df = pd.read_csv('dict/winsor-newton-lab.csv')\n",
    "df = df.drop(df.index[range(0, 18)])\n",
    "df = df.drop(index=618)\n",
    "df = df.rename(columns={';\"winsor-newton-lab.txt\" color dictionary': 'ColorNames', 'Unnamed: 1' : 'L', 'Unnamed: 2' : 'a', 'Unnamed: 3' : 'b'})\n",
    "df= df.reset_index(drop=True)\n",
    "\n",
    "winsor = pd.DataFrame(columns=['ColorName', 'R', 'G', 'B'])\n",
    "\n",
    "for index, row in df.iterrows():\n",
    "    lab = LabColor(row[1], row[2], row[3])\n",
    "    rgb = convert_color(lab, sRGBColor)\n",
    "    new_row = {'ColorName': row[0], 'R': int(255*rgb.clamped_rgb_r), 'G' : int(255*rgb.clamped_rgb_g), 'B' : int(255*rgb.clamped_rgb_b)}\n",
    "    winsor = winsor.append(new_row, ignore_index= True)\n",
    "\n",
    "winsor"
   ]
  },
  {
   "cell_type": "code",
   "execution_count": 11,
   "metadata": {},
   "outputs": [
    {
     "name": "stdout",
     "output_type": "stream",
     "text": [
      "[18, 0, 51, 84, 90, 54, 18, 12, 0, 12, 18]\n"
     ]
    }
   ],
   "source": [
    "winsor_extracted = dict_extraction(winsor)\n",
    "print(dict_summary(winsor_extracted))"
   ]
  },
  {
   "cell_type": "code",
   "execution_count": 12,
   "metadata": {},
   "outputs": [
    {
     "data": {
      "text/html": [
       "<div>\n",
       "<style scoped>\n",
       "    .dataframe tbody tr th:only-of-type {\n",
       "        vertical-align: middle;\n",
       "    }\n",
       "\n",
       "    .dataframe tbody tr th {\n",
       "        vertical-align: top;\n",
       "    }\n",
       "\n",
       "    .dataframe thead th {\n",
       "        text-align: right;\n",
       "    }\n",
       "</style>\n",
       "<table border=\"1\" class=\"dataframe\">\n",
       "  <thead>\n",
       "    <tr style=\"text-align: right;\">\n",
       "      <th></th>\n",
       "      <th>ColorName</th>\n",
       "      <th>R</th>\n",
       "      <th>G</th>\n",
       "      <th>B</th>\n",
       "    </tr>\n",
       "  </thead>\n",
       "  <tbody>\n",
       "    <tr>\n",
       "      <th>0</th>\n",
       "      <td>black</td>\n",
       "      <td>0</td>\n",
       "      <td>1</td>\n",
       "      <td>0</td>\n",
       "    </tr>\n",
       "    <tr>\n",
       "      <th>1</th>\n",
       "      <td>black</td>\n",
       "      <td>0</td>\n",
       "      <td>2</td>\n",
       "      <td>0</td>\n",
       "    </tr>\n",
       "    <tr>\n",
       "      <th>2</th>\n",
       "      <td>black</td>\n",
       "      <td>0</td>\n",
       "      <td>3</td>\n",
       "      <td>0</td>\n",
       "    </tr>\n",
       "    <tr>\n",
       "      <th>3</th>\n",
       "      <td>black</td>\n",
       "      <td>0</td>\n",
       "      <td>4</td>\n",
       "      <td>0</td>\n",
       "    </tr>\n",
       "    <tr>\n",
       "      <th>4</th>\n",
       "      <td>black</td>\n",
       "      <td>0</td>\n",
       "      <td>5</td>\n",
       "      <td>0</td>\n",
       "    </tr>\n",
       "    <tr>\n",
       "      <th>...</th>\n",
       "      <td>...</td>\n",
       "      <td>...</td>\n",
       "      <td>...</td>\n",
       "      <td>...</td>\n",
       "    </tr>\n",
       "    <tr>\n",
       "      <th>196602</th>\n",
       "      <td>yellow</td>\n",
       "      <td>251</td>\n",
       "      <td>255</td>\n",
       "      <td>0</td>\n",
       "    </tr>\n",
       "    <tr>\n",
       "      <th>196603</th>\n",
       "      <td>yellow</td>\n",
       "      <td>252</td>\n",
       "      <td>255</td>\n",
       "      <td>0</td>\n",
       "    </tr>\n",
       "    <tr>\n",
       "      <th>196604</th>\n",
       "      <td>yellow</td>\n",
       "      <td>253</td>\n",
       "      <td>255</td>\n",
       "      <td>0</td>\n",
       "    </tr>\n",
       "    <tr>\n",
       "      <th>196605</th>\n",
       "      <td>yellow</td>\n",
       "      <td>254</td>\n",
       "      <td>255</td>\n",
       "      <td>0</td>\n",
       "    </tr>\n",
       "    <tr>\n",
       "      <th>196606</th>\n",
       "      <td>yellow</td>\n",
       "      <td>255</td>\n",
       "      <td>255</td>\n",
       "      <td>0</td>\n",
       "    </tr>\n",
       "  </tbody>\n",
       "</table>\n",
       "<p>196607 rows × 4 columns</p>\n",
       "</div>"
      ],
      "text/plain": [
       "       ColorName    R    G  B\n",
       "0          black    0    1  0\n",
       "1          black    0    2  0\n",
       "2          black    0    3  0\n",
       "3          black    0    4  0\n",
       "4          black    0    5  0\n",
       "...          ...  ...  ... ..\n",
       "196602    yellow  251  255  0\n",
       "196603    yellow  252  255  0\n",
       "196604    yellow  253  255  0\n",
       "196605    yellow  254  255  0\n",
       "196606    yellow  255  255  0\n",
       "\n",
       "[196607 rows x 4 columns]"
      ]
     },
     "execution_count": 12,
     "metadata": {},
     "output_type": "execute_result"
    }
   ],
   "source": [
    "df = pd.read_csv('dict/satfaces.csv')\n",
    "\n",
    "df= df.reset_index(drop=True)\n",
    "\n",
    "survey_rgb = df\n",
    "survey_cols = df.columns.tolist()\n",
    "survey_cols = survey_cols[-1:] + survey_cols[:-1]\n",
    "survey_rgb = df[survey_cols]\n",
    "\n",
    "survey_rgb.columns = ['ColorName', 'R', 'G', 'B']\n",
    "\n",
    "\n",
    "\n",
    "survey_rgb"
   ]
  },
  {
   "cell_type": "code",
   "execution_count": 13,
   "metadata": {},
   "outputs": [
    {
     "name": "stdout",
     "output_type": "stream",
     "text": [
      "[1781, 0, 15476, 51664, 7808, 42990, 10529, 9152, 12627, 26416, 0]\n"
     ]
    }
   ],
   "source": [
    "survey_rgb_extracted = dict_extraction(survey_rgb)\n",
    "survey_rgb_extracted.to_csv('survey_rgb_extracted.csv', index = False)\n",
    "print(dict_summary(survey_rgb_extracted))"
   ]
  },
  {
   "cell_type": "code",
   "execution_count": 14,
   "metadata": {},
   "outputs": [
    {
     "name": "stdout",
     "output_type": "stream",
     "text": [
      "[1818, 39, 15564, 51834, 7944, 43137, 10583, 9190, 12676, 26457, 74]\n"
     ]
    }
   ],
   "source": [
    "survey_rgb_extracted = pd.read_csv('survey_rgb_extracted.csv')\n",
    "frames = [resene_extracted, NBS_extracted, saturate_extracted, winsor_extracted, survey_rgb_extracted]\n",
    "dataset = pd.concat(frames)\n",
    "dataset = dataset.reset_index(drop=True)\n",
    "dataset.to_csv('combined_dicts.csv', index=False)\n",
    "print(dict_summary(dataset))"
   ]
  },
  {
   "cell_type": "code",
   "execution_count": 15,
   "metadata": {},
   "outputs": [
    {
     "data": {
      "text/html": [
       "<div>\n",
       "<style scoped>\n",
       "    .dataframe tbody tr th:only-of-type {\n",
       "        vertical-align: middle;\n",
       "    }\n",
       "\n",
       "    .dataframe tbody tr th {\n",
       "        vertical-align: top;\n",
       "    }\n",
       "\n",
       "    .dataframe thead th {\n",
       "        text-align: right;\n",
       "    }\n",
       "</style>\n",
       "<table border=\"1\" class=\"dataframe\">\n",
       "  <thead>\n",
       "    <tr style=\"text-align: right;\">\n",
       "      <th></th>\n",
       "      <th>ColorName</th>\n",
       "      <th>R</th>\n",
       "      <th>G</th>\n",
       "      <th>B</th>\n",
       "    </tr>\n",
       "  </thead>\n",
       "  <tbody>\n",
       "    <tr>\n",
       "      <th>0</th>\n",
       "      <td>blue</td>\n",
       "      <td>201</td>\n",
       "      <td>255</td>\n",
       "      <td>229</td>\n",
       "    </tr>\n",
       "    <tr>\n",
       "      <th>1</th>\n",
       "      <td>white</td>\n",
       "      <td>245</td>\n",
       "      <td>233</td>\n",
       "      <td>211</td>\n",
       "    </tr>\n",
       "    <tr>\n",
       "      <th>2</th>\n",
       "      <td>green</td>\n",
       "      <td>226</td>\n",
       "      <td>243</td>\n",
       "      <td>236</td>\n",
       "    </tr>\n",
       "    <tr>\n",
       "      <th>3</th>\n",
       "      <td>white</td>\n",
       "      <td>255</td>\n",
       "      <td>254</td>\n",
       "      <td>236</td>\n",
       "    </tr>\n",
       "    <tr>\n",
       "      <th>4</th>\n",
       "      <td>brown</td>\n",
       "      <td>46</td>\n",
       "      <td>25</td>\n",
       "      <td>5</td>\n",
       "    </tr>\n",
       "    <tr>\n",
       "      <th>...</th>\n",
       "      <td>...</td>\n",
       "      <td>...</td>\n",
       "      <td>...</td>\n",
       "      <td>...</td>\n",
       "    </tr>\n",
       "    <tr>\n",
       "      <th>179311</th>\n",
       "      <td>yellow</td>\n",
       "      <td>251</td>\n",
       "      <td>255</td>\n",
       "      <td>0</td>\n",
       "    </tr>\n",
       "    <tr>\n",
       "      <th>179312</th>\n",
       "      <td>yellow</td>\n",
       "      <td>252</td>\n",
       "      <td>255</td>\n",
       "      <td>0</td>\n",
       "    </tr>\n",
       "    <tr>\n",
       "      <th>179313</th>\n",
       "      <td>yellow</td>\n",
       "      <td>253</td>\n",
       "      <td>255</td>\n",
       "      <td>0</td>\n",
       "    </tr>\n",
       "    <tr>\n",
       "      <th>179314</th>\n",
       "      <td>yellow</td>\n",
       "      <td>254</td>\n",
       "      <td>255</td>\n",
       "      <td>0</td>\n",
       "    </tr>\n",
       "    <tr>\n",
       "      <th>179315</th>\n",
       "      <td>yellow</td>\n",
       "      <td>255</td>\n",
       "      <td>255</td>\n",
       "      <td>0</td>\n",
       "    </tr>\n",
       "  </tbody>\n",
       "</table>\n",
       "<p>179316 rows × 4 columns</p>\n",
       "</div>"
      ],
      "text/plain": [
       "       ColorName    R    G    B\n",
       "0           blue  201  255  229\n",
       "1          white  245  233  211\n",
       "2          green  226  243  236\n",
       "3          white  255  254  236\n",
       "4          brown   46   25    5\n",
       "...          ...  ...  ...  ...\n",
       "179311    yellow  251  255    0\n",
       "179312    yellow  252  255    0\n",
       "179313    yellow  253  255    0\n",
       "179314    yellow  254  255    0\n",
       "179315    yellow  255  255    0\n",
       "\n",
       "[179316 rows x 4 columns]"
      ]
     },
     "execution_count": 15,
     "metadata": {},
     "output_type": "execute_result"
    }
   ],
   "source": [
    "dataset = pd.read_csv('combined_dicts.csv')\n",
    "dataset"
   ]
  },
  {
   "cell_type": "code",
   "execution_count": 16,
   "metadata": {},
   "outputs": [
    {
     "data": {
      "text/plain": [
       "[1818, 39, 15564, 51834, 7944, 43137, 10583, 9190, 12676, 26457, 74]"
      ]
     },
     "execution_count": 16,
     "metadata": {},
     "output_type": "execute_result"
    }
   ],
   "source": [
    "dict_summary(dataset)"
   ]
  },
  {
   "cell_type": "markdown",
   "metadata": {},
   "source": []
  },
  {
   "cell_type": "code",
   "execution_count": 17,
   "metadata": {},
   "outputs": [],
   "source": [
    "for i in dataset.B:\n",
    "    if i> 255:\n",
    "        print(i)"
   ]
  },
  {
   "cell_type": "code",
   "execution_count": 18,
   "metadata": {},
   "outputs": [
    {
     "data": {
      "text/plain": [
       "<mpl_toolkits.mplot3d.art3d.Path3DCollection at 0x1adb3e4a220>"
      ]
     },
     "execution_count": 18,
     "metadata": {},
     "output_type": "execute_result"
    },
    {
     "data": {
      "image/png": "[encoded data removed]",
      "text/plain": [
       "<Figure size 432x288 with 1 Axes>"
      ]
     },
     "metadata": {
      "needs_background": "light"
     },
     "output_type": "display_data"
    }
   ],
   "source": [
    "\n",
    "import matplotlib.pyplot as plt\n",
    "r = pd.to_numeric(dataset['R'])\n",
    "g = pd.to_numeric(dataset['G']) \n",
    "b = pd.to_numeric(dataset['B'])\n",
    "#c = dataset['ColorName'].to_numpy()\n",
    "r1 = dataset.R.to_numpy()\n",
    "r1 = r1.astype(int)\n",
    "\n",
    "\n",
    "g1 = dataset.G.to_numpy()\n",
    "g1 = g1.astype(int)\n",
    "\n",
    "\n",
    "b1 = dataset.B.to_numpy()\n",
    "b1 = b1.astype(int)\n",
    "\n",
    "c1 = np.column_stack((r1,g1,b1))\n",
    "\n",
    "fig = plt.figure()\n",
    "ax = plt.axes(projection='3d')\n",
    "ax.scatter3D(r, g, b, c =c1/255.0)"
   ]
  },
  {
   "cell_type": "code",
   "execution_count": 19,
   "metadata": {},
   "outputs": [],
   "source": [
    "Data = dataset.drop(columns = 'ColorName').values.tolist()\n",
    "labels = dataset.drop(columns = ['R', 'G', 'B']).values.tolist()\n",
    "labels = np.array(labels)\n",
    "labels = np.ravel(labels, order = 'C')"
   ]
  },
  {
   "cell_type": "code",
   "execution_count": 20,
   "metadata": {},
   "outputs": [],
   "source": [
    "from sklearn.model_selection import train_test_split\n",
    "from sklearn import preprocessing\n",
    "from sklearn.model_selection import cross_val_score\n",
    "from sklearn import svm\n",
    "from sklearn.neural_network import MLPClassifier\n",
    "\n",
    "X_train, X_test, y_train, y_test = train_test_split(Data, labels, test_size=0.3)\n",
    "\n",
    "X_s = preprocessing.StandardScaler().fit(X_train).transform(X_train)\n",
    "\n",
    "X_normalized = preprocessing.normalize(X_train)\n"
   ]
  },
  {
   "cell_type": "code",
   "execution_count": 21,
   "metadata": {},
   "outputs": [
    {
     "ename": "ValueError",
     "evalue": "Found input variables with inconsistent numbers of samples: [125521, 53795]",
     "output_type": "error",
     "traceback": [
      "\u001b[1;31m---------------------------------------------------------------------------\u001b[0m",
      "\u001b[1;31mValueError\u001b[0m                                Traceback (most recent call last)",
      "\u001b[1;32m<ipython-input-21-693f3523a628>\u001b[0m in \u001b[0;36m<module>\u001b[1;34m\u001b[0m\n\u001b[0;32m      9\u001b[0m \u001b[1;33m\u001b[0m\u001b[0m\n\u001b[0;32m     10\u001b[0m \u001b[0mscores_raw\u001b[0m \u001b[1;33m=\u001b[0m \u001b[0mcross_val_score\u001b[0m\u001b[1;33m(\u001b[0m\u001b[0mclf_raw\u001b[0m\u001b[1;33m,\u001b[0m \u001b[0mX_test\u001b[0m\u001b[1;33m,\u001b[0m \u001b[0my_test\u001b[0m\u001b[1;33m,\u001b[0m \u001b[0mcv\u001b[0m\u001b[1;33m=\u001b[0m\u001b[1;36m5\u001b[0m\u001b[1;33m)\u001b[0m\u001b[1;33m\u001b[0m\u001b[1;33m\u001b[0m\u001b[0m\n\u001b[1;32m---> 11\u001b[1;33m \u001b[0mscores_s\u001b[0m \u001b[1;33m=\u001b[0m \u001b[0mcross_val_score\u001b[0m\u001b[1;33m(\u001b[0m\u001b[0mclf_s\u001b[0m\u001b[1;33m,\u001b[0m \u001b[0mX_s\u001b[0m\u001b[1;33m,\u001b[0m \u001b[0my_test\u001b[0m\u001b[1;33m,\u001b[0m \u001b[0mcv\u001b[0m\u001b[1;33m=\u001b[0m\u001b[1;36m5\u001b[0m\u001b[1;33m)\u001b[0m\u001b[1;33m\u001b[0m\u001b[1;33m\u001b[0m\u001b[0m\n\u001b[0m\u001b[0;32m     12\u001b[0m \u001b[0mscores_n\u001b[0m \u001b[1;33m=\u001b[0m \u001b[0mcross_val_score\u001b[0m\u001b[1;33m(\u001b[0m\u001b[0mclf_n\u001b[0m\u001b[1;33m,\u001b[0m \u001b[0mX_normalized\u001b[0m\u001b[1;33m,\u001b[0m \u001b[0my_test\u001b[0m\u001b[1;33m,\u001b[0m \u001b[0mcv\u001b[0m\u001b[1;33m=\u001b[0m\u001b[1;36m5\u001b[0m\u001b[1;33m)\u001b[0m\u001b[1;33m\u001b[0m\u001b[1;33m\u001b[0m\u001b[0m\n\u001b[0;32m     13\u001b[0m \u001b[1;33m\u001b[0m\u001b[0m\n",
      "\u001b[1;32m~\\anaconda3\\lib\\site-packages\\sklearn\\utils\\validation.py\u001b[0m in \u001b[0;36minner_f\u001b[1;34m(*args, **kwargs)\u001b[0m\n\u001b[0;32m     61\u001b[0m             \u001b[0mextra_args\u001b[0m \u001b[1;33m=\u001b[0m \u001b[0mlen\u001b[0m\u001b[1;33m(\u001b[0m\u001b[0margs\u001b[0m\u001b[1;33m)\u001b[0m \u001b[1;33m-\u001b[0m \u001b[0mlen\u001b[0m\u001b[1;33m(\u001b[0m\u001b[0mall_args\u001b[0m\u001b[1;33m)\u001b[0m\u001b[1;33m\u001b[0m\u001b[1;33m\u001b[0m\u001b[0m\n\u001b[0;32m     62\u001b[0m             \u001b[1;32mif\u001b[0m \u001b[0mextra_args\u001b[0m \u001b[1;33m<=\u001b[0m \u001b[1;36m0\u001b[0m\u001b[1;33m:\u001b[0m\u001b[1;33m\u001b[0m\u001b[1;33m\u001b[0m\u001b[0m\n\u001b[1;32m---> 63\u001b[1;33m                 \u001b[1;32mreturn\u001b[0m \u001b[0mf\u001b[0m\u001b[1;33m(\u001b[0m\u001b[1;33m*\u001b[0m\u001b[0margs\u001b[0m\u001b[1;33m,\u001b[0m \u001b[1;33m**\u001b[0m\u001b[0mkwargs\u001b[0m\u001b[1;33m)\u001b[0m\u001b[1;33m\u001b[0m\u001b[1;33m\u001b[0m\u001b[0m\n\u001b[0m\u001b[0;32m     64\u001b[0m \u001b[1;33m\u001b[0m\u001b[0m\n\u001b[0;32m     65\u001b[0m             \u001b[1;31m# extra_args > 0\u001b[0m\u001b[1;33m\u001b[0m\u001b[1;33m\u001b[0m\u001b[1;33m\u001b[0m\u001b[0m\n",
      "\u001b[1;32m~\\anaconda3\\lib\\site-packages\\sklearn\\model_selection\\_validation.py\u001b[0m in \u001b[0;36mcross_val_score\u001b[1;34m(estimator, X, y, groups, scoring, cv, n_jobs, verbose, fit_params, pre_dispatch, error_score)\u001b[0m\n\u001b[0;32m    438\u001b[0m     \u001b[0mscorer\u001b[0m \u001b[1;33m=\u001b[0m \u001b[0mcheck_scoring\u001b[0m\u001b[1;33m(\u001b[0m\u001b[0mestimator\u001b[0m\u001b[1;33m,\u001b[0m \u001b[0mscoring\u001b[0m\u001b[1;33m=\u001b[0m\u001b[0mscoring\u001b[0m\u001b[1;33m)\u001b[0m\u001b[1;33m\u001b[0m\u001b[1;33m\u001b[0m\u001b[0m\n\u001b[0;32m    439\u001b[0m \u001b[1;33m\u001b[0m\u001b[0m\n\u001b[1;32m--> 440\u001b[1;33m     cv_results = cross_validate(estimator=estimator, X=X, y=y, groups=groups,\n\u001b[0m\u001b[0;32m    441\u001b[0m                                 \u001b[0mscoring\u001b[0m\u001b[1;33m=\u001b[0m\u001b[1;33m{\u001b[0m\u001b[1;34m'score'\u001b[0m\u001b[1;33m:\u001b[0m \u001b[0mscorer\u001b[0m\u001b[1;33m}\u001b[0m\u001b[1;33m,\u001b[0m \u001b[0mcv\u001b[0m\u001b[1;33m=\u001b[0m\u001b[0mcv\u001b[0m\u001b[1;33m,\u001b[0m\u001b[1;33m\u001b[0m\u001b[1;33m\u001b[0m\u001b[0m\n\u001b[0;32m    442\u001b[0m                                 \u001b[0mn_jobs\u001b[0m\u001b[1;33m=\u001b[0m\u001b[0mn_jobs\u001b[0m\u001b[1;33m,\u001b[0m \u001b[0mverbose\u001b[0m\u001b[1;33m=\u001b[0m\u001b[0mverbose\u001b[0m\u001b[1;33m,\u001b[0m\u001b[1;33m\u001b[0m\u001b[1;33m\u001b[0m\u001b[0m\n",
      "\u001b[1;32m~\\anaconda3\\lib\\site-packages\\sklearn\\utils\\validation.py\u001b[0m in \u001b[0;36minner_f\u001b[1;34m(*args, **kwargs)\u001b[0m\n\u001b[0;32m     61\u001b[0m             \u001b[0mextra_args\u001b[0m \u001b[1;33m=\u001b[0m \u001b[0mlen\u001b[0m\u001b[1;33m(\u001b[0m\u001b[0margs\u001b[0m\u001b[1;33m)\u001b[0m \u001b[1;33m-\u001b[0m \u001b[0mlen\u001b[0m\u001b[1;33m(\u001b[0m\u001b[0mall_args\u001b[0m\u001b[1;33m)\u001b[0m\u001b[1;33m\u001b[0m\u001b[1;33m\u001b[0m\u001b[0m\n\u001b[0;32m     62\u001b[0m             \u001b[1;32mif\u001b[0m \u001b[0mextra_args\u001b[0m \u001b[1;33m<=\u001b[0m \u001b[1;36m0\u001b[0m\u001b[1;33m:\u001b[0m\u001b[1;33m\u001b[0m\u001b[1;33m\u001b[0m\u001b[0m\n\u001b[1;32m---> 63\u001b[1;33m                 \u001b[1;32mreturn\u001b[0m \u001b[0mf\u001b[0m\u001b[1;33m(\u001b[0m\u001b[1;33m*\u001b[0m\u001b[0margs\u001b[0m\u001b[1;33m,\u001b[0m \u001b[1;33m**\u001b[0m\u001b[0mkwargs\u001b[0m\u001b[1;33m)\u001b[0m\u001b[1;33m\u001b[0m\u001b[1;33m\u001b[0m\u001b[0m\n\u001b[0m\u001b[0;32m     64\u001b[0m \u001b[1;33m\u001b[0m\u001b[0m\n\u001b[0;32m     65\u001b[0m             \u001b[1;31m# extra_args > 0\u001b[0m\u001b[1;33m\u001b[0m\u001b[1;33m\u001b[0m\u001b[1;33m\u001b[0m\u001b[0m\n",
      "\u001b[1;32m~\\anaconda3\\lib\\site-packages\\sklearn\\model_selection\\_validation.py\u001b[0m in \u001b[0;36mcross_validate\u001b[1;34m(estimator, X, y, groups, scoring, cv, n_jobs, verbose, fit_params, pre_dispatch, return_train_score, return_estimator, error_score)\u001b[0m\n\u001b[0;32m    229\u001b[0m \u001b[1;33m\u001b[0m\u001b[0m\n\u001b[0;32m    230\u001b[0m     \"\"\"\n\u001b[1;32m--> 231\u001b[1;33m     \u001b[0mX\u001b[0m\u001b[1;33m,\u001b[0m \u001b[0my\u001b[0m\u001b[1;33m,\u001b[0m \u001b[0mgroups\u001b[0m \u001b[1;33m=\u001b[0m \u001b[0mindexable\u001b[0m\u001b[1;33m(\u001b[0m\u001b[0mX\u001b[0m\u001b[1;33m,\u001b[0m \u001b[0my\u001b[0m\u001b[1;33m,\u001b[0m \u001b[0mgroups\u001b[0m\u001b[1;33m)\u001b[0m\u001b[1;33m\u001b[0m\u001b[1;33m\u001b[0m\u001b[0m\n\u001b[0m\u001b[0;32m    232\u001b[0m \u001b[1;33m\u001b[0m\u001b[0m\n\u001b[0;32m    233\u001b[0m     \u001b[0mcv\u001b[0m \u001b[1;33m=\u001b[0m \u001b[0mcheck_cv\u001b[0m\u001b[1;33m(\u001b[0m\u001b[0mcv\u001b[0m\u001b[1;33m,\u001b[0m \u001b[0my\u001b[0m\u001b[1;33m,\u001b[0m \u001b[0mclassifier\u001b[0m\u001b[1;33m=\u001b[0m\u001b[0mis_classifier\u001b[0m\u001b[1;33m(\u001b[0m\u001b[0mestimator\u001b[0m\u001b[1;33m)\u001b[0m\u001b[1;33m)\u001b[0m\u001b[1;33m\u001b[0m\u001b[1;33m\u001b[0m\u001b[0m\n",
      "\u001b[1;32m~\\anaconda3\\lib\\site-packages\\sklearn\\utils\\validation.py\u001b[0m in \u001b[0;36mindexable\u001b[1;34m(*iterables)\u001b[0m\n\u001b[0;32m    297\u001b[0m     \"\"\"\n\u001b[0;32m    298\u001b[0m     \u001b[0mresult\u001b[0m \u001b[1;33m=\u001b[0m \u001b[1;33m[\u001b[0m\u001b[0m_make_indexable\u001b[0m\u001b[1;33m(\u001b[0m\u001b[0mX\u001b[0m\u001b[1;33m)\u001b[0m \u001b[1;32mfor\u001b[0m \u001b[0mX\u001b[0m \u001b[1;32min\u001b[0m \u001b[0miterables\u001b[0m\u001b[1;33m]\u001b[0m\u001b[1;33m\u001b[0m\u001b[1;33m\u001b[0m\u001b[0m\n\u001b[1;32m--> 299\u001b[1;33m     \u001b[0mcheck_consistent_length\u001b[0m\u001b[1;33m(\u001b[0m\u001b[1;33m*\u001b[0m\u001b[0mresult\u001b[0m\u001b[1;33m)\u001b[0m\u001b[1;33m\u001b[0m\u001b[1;33m\u001b[0m\u001b[0m\n\u001b[0m\u001b[0;32m    300\u001b[0m     \u001b[1;32mreturn\u001b[0m \u001b[0mresult\u001b[0m\u001b[1;33m\u001b[0m\u001b[1;33m\u001b[0m\u001b[0m\n\u001b[0;32m    301\u001b[0m \u001b[1;33m\u001b[0m\u001b[0m\n",
      "\u001b[1;32m~\\anaconda3\\lib\\site-packages\\sklearn\\utils\\validation.py\u001b[0m in \u001b[0;36mcheck_consistent_length\u001b[1;34m(*arrays)\u001b[0m\n\u001b[0;32m    260\u001b[0m     \u001b[0muniques\u001b[0m \u001b[1;33m=\u001b[0m \u001b[0mnp\u001b[0m\u001b[1;33m.\u001b[0m\u001b[0munique\u001b[0m\u001b[1;33m(\u001b[0m\u001b[0mlengths\u001b[0m\u001b[1;33m)\u001b[0m\u001b[1;33m\u001b[0m\u001b[1;33m\u001b[0m\u001b[0m\n\u001b[0;32m    261\u001b[0m     \u001b[1;32mif\u001b[0m \u001b[0mlen\u001b[0m\u001b[1;33m(\u001b[0m\u001b[0muniques\u001b[0m\u001b[1;33m)\u001b[0m \u001b[1;33m>\u001b[0m \u001b[1;36m1\u001b[0m\u001b[1;33m:\u001b[0m\u001b[1;33m\u001b[0m\u001b[1;33m\u001b[0m\u001b[0m\n\u001b[1;32m--> 262\u001b[1;33m         raise ValueError(\"Found input variables with inconsistent numbers of\"\n\u001b[0m\u001b[0;32m    263\u001b[0m                          \" samples: %r\" % [int(l) for l in lengths])\n\u001b[0;32m    264\u001b[0m \u001b[1;33m\u001b[0m\u001b[0m\n",
      "\u001b[1;31mValueError\u001b[0m: Found input variables with inconsistent numbers of samples: [125521, 53795]"
     ]
    }
   ],
   "source": [
    "from sklearn import svm\n",
    "\n",
    "clf_linear = clf_s = clf_n = clf_raw = svm.SVC(kernel='linear') # Linear Kernel\n",
    "\n",
    "clf_raw.fit(X_train, y_train)\n",
    "clf_s.fit(X_s, y_train)\n",
    "clf_n.fit(X_normalized, y_train)\n",
    "\n",
    "\n",
    "scores_raw = cross_val_score(clf_raw, X_test, y_test, cv=5)\n",
    "scores_s = cross_val_score(clf_s, X_s, y_test, cv=5)\n",
    "scores_n = cross_val_score(clf_n, X_normalized, y_test, cv=5)\n",
    "\n",
    "print(scores_raw)\n",
    "print(scores_raw.mean(), scores_raw.std())\n",
    "print(scores_s)\n",
    "print(scores_s.mean(), scores_s.std())\n",
    "print(scores_n)\n",
    "print(scores_n.mean(), scores_n.std())\n"
   ]
  },
  {
   "cell_type": "code",
   "execution_count": null,
   "metadata": {},
   "outputs": [
    {
     "data": {
      "text/plain": [
       "(0.9911887265962245, 0.00041957892092010486)"
      ]
     },
     "execution_count": 21,
     "metadata": {},
     "output_type": "execute_result"
    }
   ],
   "source": [
    "clf_linear_s = svm.SVC(kernel='linear')\n",
    "clf_linear_s.fit(Data, labels)\n",
    "\n",
    "\n",
    "scores_linear = cross_val_score(clf_linear_s, X_train, y_train, cv=5)\n",
    "scores_linear.mean(), scores_linear.std()"
   ]
  },
  {
   "cell_type": "code",
   "execution_count": null,
   "metadata": {},
   "outputs": [
    {
     "name": "stdout",
     "output_type": "stream",
     "text": [
      "[0.99014778 0.99005484 0.99135607 0.99172786 0.99014778]\n",
      "0.990686866809183 0.0007088270644088545\n"
     ]
    }
   ],
   "source": [
    "clf_poly = svm.SVC(kernel='poly') # poly Kernel\n",
    "\n",
    "clf_poly.fit(X_train, y_train)\n",
    "\n",
    "scores_poly = cross_val_score(clf_poly, X_test, y_test, cv=5)\n",
    "print(scores_poly)\n",
    "print(scores_poly.mean(), scores_poly.std())"
   ]
  },
  {
   "cell_type": "code",
   "execution_count": null,
   "metadata": {},
   "outputs": [
    {
     "name": "stdout",
     "output_type": "stream",
     "text": [
      "[0.99191375 0.99154196 0.99209964 0.99144902 0.99200669]\n",
      "0.9918022121014964 0.0002589160382411709\n"
     ]
    }
   ],
   "source": [
    "clf_rbf = svm.SVC(kernel='rbf') # rbf Kernel\n",
    "\n",
    "clf_rbf.fit(X_train, y_train)\n",
    "\n",
    "scores_rbf = cross_val_score(clf_rbf, X_test, y_test, cv=5)\n",
    "print(scores_rbf)\n",
    "print(scores_rbf.mean(), scores_rbf.std())"
   ]
  },
  {
   "cell_type": "code",
   "execution_count": null,
   "metadata": {},
   "outputs": [
    {
     "name": "stdout",
     "output_type": "stream",
     "text": [
      "[0.7838089  0.80100381 0.79589181 0.80806766 0.77906869]\n",
      "0.7935681754809927 0.010736868107721634\n"
     ]
    }
   ],
   "source": [
    "clf_sigmoid = svm.SVC(kernel='sigmoid') # sigmoid Kernel\n",
    "\n",
    "clf_sigmoid.fit(Data, labels)\n",
    "\n",
    "scores_sigmoid = cross_val_score(clf_sigmoid, X_test, y_test, cv=5)\n",
    "print(scores_sigmoid)\n",
    "print(scores_sigmoid.mean(), scores_sigmoid.std())"
   ]
  },
  {
   "cell_type": "code",
   "execution_count": null,
   "metadata": {},
   "outputs": [
    {
     "name": "stdout",
     "output_type": "stream",
     "text": [
      "C= 9.999999999999999e-06 [0.28906032 0.28906032 0.28906032 0.28906032 0.28906032]\n",
      "0.28906032159122597 0.0\n",
      "SVC(C=9.999999999999999e-06, kernel='linear')\n",
      "C= 9.999999999999999e-05 [0.63472442 0.63751278 0.63351613 0.63723394 0.63751278]\n",
      "0.636100009294544 0.0016641127850048913\n",
      "SVC(C=9.999999999999999e-05, kernel='linear')\n",
      "C= 0.001 [0.9327075  0.93112743 0.93326517 0.93382285 0.93038386]\n",
      "0.9322613625801652 0.0013004392551272778\n",
      "SVC(C=0.001, kernel='linear')\n",
      "C= 0.01 [0.97574124 0.97165164 0.97481179 0.97499768 0.97248815]\n",
      "0.9739380983362766 0.0015790880625779723\n",
      "SVC(C=0.01, kernel='linear')\n",
      "C= 0.1 [0.98782415 0.98680175 0.98847477 0.98810298 0.98708058]\n",
      "0.9876568454317315 0.0006259859927682169\n",
      "SVC(C=0.1, kernel='linear')\n",
      "C= 1.0 [0.99033367 0.99135607 0.99144902 0.99051957 0.99089135]\n",
      "0.9909099358676456 0.00044146638486988136\n",
      "SVC(kernel='linear')\n",
      "C= 10.0 [0.99172786 0.99172786 0.99209964 0.9907984  0.99209964]\n",
      "0.9916906775722651 0.0004761129649545643\n",
      "SVC(C=10.0, kernel='linear')\n",
      "C= 100.0 [0.99172786 0.99172786 0.99191375 0.99089135 0.99247142]\n",
      "0.9917464448368808 0.0005070427250482585\n",
      "SVC(C=100.0, kernel='linear')\n",
      "C= 1000.0 [0.99172786 0.99228553 0.99191375 0.99135607 0.99219258]\n",
      "0.9918951575425226 0.0003346035876940156\n",
      "SVC(C=1000.0, kernel='linear')\n",
      "C= 10000.0 [0.99172786 0.99219258 0.9918208  0.99163491 0.99191375]\n",
      "0.991857979366112 0.00019138637681916082\n",
      "SVC(C=10000.0, kernel='linear')\n"
     ]
    }
   ],
   "source": [
    "var_c = 10  ** (-6)\n",
    "for i in range(10) :\n",
    "    var_c *= 10\n",
    "    clf_linear = svm.SVC(kernel='linear', C=var_c) # Linear Kernel\n",
    "    clf_linear.fit(X_train, y_train)\n",
    "    scores_linear = cross_val_score(clf_linear, X_test, y_test, cv=5)\n",
    "    print('C=',var_c,scores_linear)\n",
    "    print(scores_linear.mean(), scores_linear.std())\n",
    "    print(clf_linear)\n",
    "\n",
    "    "
   ]
  },
  {
   "cell_type": "code",
   "execution_count": null,
   "metadata": {},
   "outputs": [
    {
     "name": "stdout",
     "output_type": "stream",
     "text": [
      "n= 6 [0.9918208  0.99126313 0.99024073 0.98940422 0.99005484]\n",
      "0.9905567431917465 0.0008691268502694065\n",
      "n= 7 [0.9918208  0.99163491 0.99061251 0.99107724 0.99154196]\n",
      "0.991337484896366 0.0004375351722628326\n",
      "n= 8 [0.99172786 0.99144902 0.99191375 0.99042662 0.99117018]\n",
      "0.9913374848963658 0.0005204944697462466\n",
      "n= 9 [0.99312204 0.99228553 0.9918208  0.9918208  0.99209964]\n",
      "0.9922297611302167 0.0004797281494772653\n",
      "n= 10 [0.99349382 0.9918208  0.99200669 0.99200669 0.99228553]\n",
      "0.9923227065712424 0.0006040738659456342\n",
      "n= 11 [0.9938656  0.99144902 0.9928432  0.99144902 0.99209964]\n",
      "0.992341295659448 0.0009193615034020589\n",
      "n= 12 [0.99256436 0.99135607 0.99228553 0.99247142 0.99312204]\n",
      "0.992359884747653 0.0005741591304575118\n",
      "n= 13 [0.99209964 0.99256436 0.99219258 0.99265731 0.99191375]\n",
      "0.9922855283948323 0.000281917480957389\n",
      "n= 14 [0.99219258 0.99265731 0.99247142 0.99191375 0.99200669]\n",
      "0.9922483502184217 0.00027945527239283486\n",
      "n= 15 [0.99330793 0.99172786 0.99265731 0.99144902 0.99293615]\n",
      "0.9924156520122688 0.0007117460626109096\n"
     ]
    }
   ],
   "source": [
    "from sklearn.neural_network import MLPClassifier\n",
    "for i in range(6, 16):\n",
    "    clf_mlp = MLPClassifier(hidden_layer_sizes=(i), max_iter=10000)\n",
    "    clf_mlp.fit(X_train, y_train)\n",
    "    scores_mlp = cross_val_score(clf_mlp, X_test, y_test, cv=5)\n",
    "    print('n=',i,scores_mlp)\n",
    "    print(scores_mlp.mean(), scores_mlp.std())\n",
    "\n"
   ]
  },
  {
   "cell_type": "code",
   "execution_count": null,
   "metadata": {},
   "outputs": [
    {
     "name": "stdout",
     "output_type": "stream",
     "text": [
      "0.9921554047773956 0.0004461381169253542\n"
     ]
    }
   ],
   "source": [
    "from sklearn.neighbors import (KNeighborsClassifier,NeighborhoodComponentsAnalysis)\n",
    "\n",
    "knn = KNeighborsClassifier(n_neighbors=1)\n",
    "knn.fit(X_train, y_train)\n",
    "scores_knn = cross_val_score(knn, X_test, y_test, cv=5)\n",
    "print(scores_knn.mean(), scores_knn.std())\n"
   ]
  },
  {
   "cell_type": "code",
   "execution_count": null,
   "metadata": {},
   "outputs": [
    {
     "data": {
      "text/plain": [
       "\"from sklearn.pipeline import Pipeline\\nnca = NeighborhoodComponentsAnalysis(random_state=42)\\nknn = KNeighborsClassifier(n_neighbors=1)\\nnca_pipe = Pipeline([('nca', nca), ('knn', knn)])\\nnca_pipe.fit(X_train, y_train)\\n\\nscores_knn = cross_val_score(nca_pipe, X_test, y_test, cv=5)\\nprint(scores_knn)\\nprint(scores_knn.mean(), scores_knn.std()) \""
      ]
     },
     "execution_count": 28,
     "metadata": {},
     "output_type": "execute_result"
    }
   ],
   "source": [
    "\"\"\"from sklearn.pipeline import Pipeline\n",
    "nca = NeighborhoodComponentsAnalysis(random_state=42)\n",
    "knn = KNeighborsClassifier(n_neighbors=1)\n",
    "nca_pipe = Pipeline([('nca', nca), ('knn', knn)])\n",
    "nca_pipe.fit(X_train, y_train)\n",
    "\n",
    "scores_knn = cross_val_score(nca_pipe, X_test, y_test, cv=5)\n",
    "print(scores_knn)\n",
    "print(scores_knn.mean(), scores_knn.std()) \"\"\""
   ]
  },
  {
   "cell_type": "code",
   "execution_count": null,
   "metadata": {},
   "outputs": [
    {
     "data": {
      "text/plain": [
       "MLPClassifier(hidden_layer_sizes=13, max_iter=10000)"
      ]
     },
     "execution_count": 10,
     "metadata": {},
     "output_type": "execute_result"
    }
   ],
   "source": [
    "clf_best = MLPClassifier(hidden_layer_sizes=(12), max_iter=10000)\n",
    "clf_best.fit(X_train, y_train)\n"
   ]
  },
  {
   "cell_type": "code",
   "execution_count": null,
   "metadata": {},
   "outputs": [],
   "source": [
    "n = 256\n",
    "X = np.zeros((256**3,3))\n",
    "for i in range(n):\n",
    "    for j in range(n):\n",
    "        for k in range(n):\n",
    "            X[i*65536+j*256+k][0] = i\n",
    "            X[i*65536+j*256+k][1] = j\n",
    "            X[i*65536+j*256+k][2] = k\n"
   ]
  },
  {
   "cell_type": "code",
   "execution_count": null,
   "metadata": {},
   "outputs": [
    {
     "data": {
      "text/plain": [
       "(16777216, 3)"
      ]
     },
     "execution_count": 14,
     "metadata": {},
     "output_type": "execute_result"
    }
   ],
   "source": [
    "X\n",
    "X.shape"
   ]
  },
  {
   "cell_type": "code",
   "execution_count": null,
   "metadata": {},
   "outputs": [],
   "source": [
    "y = clf_best.predict(X)\n"
   ]
  },
  {
   "cell_type": "code",
   "execution_count": null,
   "metadata": {},
   "outputs": [
    {
     "name": "stdout",
     "output_type": "stream",
     "text": [
      "['black', 'white', 'red', 'green', 'yellow', 'blue', 'brown', 'orange', 'pink', 'purple', 'gray']\n"
     ]
    }
   ],
   "source": []
  },
  {
   "cell_type": "code",
   "execution_count": null,
   "metadata": {},
   "outputs": [
    {
     "name": "stdout",
     "output_type": "stream",
     "text": [
      "[0, 710609, 1, 446575, 4213333, 4048298, 0, 14664, 7325803, 17931, 2]\n"
     ]
    }
   ],
   "source": [
    "count = [0]*11\n",
    "for i in y:\n",
    "    for j, item in enumerate(common_colors):\n",
    "        if i == item:\n",
    "            count[j] += 1\n",
    "print(common_colors)\n",
    "print(count)"
   ]
  },
  {
   "cell_type": "code",
   "execution_count": null,
   "metadata": {},
   "outputs": [
    {
     "data": {
      "text/plain": [
       "'common_colors = [\"black\", \"white\", \"red\", \"green\", \"yellow\", \"blue\", \"brown\", \"orange\", \"pink\", \"purple\", \"gray\"]\\ncc_code = [0x000000, 0xFFFFFF, 0xFF0000, 0x008000, 0xFFFF00, 0x0000FF, 0xDEE5E7, 0xFFA500, 0xFFC0CB, 0x800080, 0x808080]\\nlookup = pd.DataFrame([common_colors, cc_code])\\nlookup\\nlu_value = df.lookup()'"
      ]
     },
     "execution_count": 35,
     "metadata": {},
     "output_type": "execute_result"
    }
   ],
   "source": [
    "\"\"\"common_colors = [\"black\", \"white\", \"red\", \"green\", \"yellow\", \"blue\", \"brown\", \"orange\", \"pink\", \"purple\", \"gray\"]\n",
    "cc_code = [0x000000, 0xFFFFFF, 0xFF0000, 0x008000, 0xFFFF00, 0x0000FF, 0xDEE5E7, 0xFFA500, 0xFFC0CB, 0x800080, 0x808080]\n",
    "lookup = pd.DataFrame([common_colors, cc_code])\n",
    "lookup\n",
    "lu_value = df.lookup()\"\"\""
   ]
  },
  {
   "cell_type": "code",
   "execution_count": null,
   "metadata": {},
   "outputs": [
    {
     "name": "stdout",
     "output_type": "stream",
     "text": [
      "['brown' 'green' 'green' ... 'purple' 'blue' 'green'] (53795,)\n"
     ]
    }
   ],
   "source": [
    "print(y, y.shape)"
   ]
  },
  {
   "cell_type": "code",
   "execution_count": null,
   "metadata": {},
   "outputs": [],
   "source": [
    "visual_dict = { \"black\" : 0x000000, \"white\" : 0xFFFFFF, \n",
    "\"red\" : 0xFF0000, \"green\" : 0x008000, \"yellow\" : 0xFFFF00,\n",
    "\"blue\" : 0x0000FF, \"brown\" : 0xDEE5E7, \"orange\" : 0xFFA500, \"pink\" : 0xFFC0CB, \"purple\" : 0x800080, \"gray\" : 0x808080}\n",
    "\n",
    "cy  = y\n",
    "for i, row in np.ndenumerate(cy):\n",
    "    cy[i] = visual_dict[row]\n"
   ]
  },
  {
   "cell_type": "code",
   "execution_count": null,
   "metadata": {},
   "outputs": [
    {
     "data": {
      "text/plain": [
       "array(['146078', '32768', '32768', ..., '838873', '255', '32768'],\n",
       "      dtype='<U6')"
      ]
     },
     "execution_count": 38,
     "metadata": {},
     "output_type": "execute_result"
    }
   ],
   "source": [
    "cy"
   ]
  },
  {
   "cell_type": "code",
   "execution_count": null,
   "metadata": {},
   "outputs": [
    {
     "name": "stdout",
     "output_type": "stream",
     "text": [
      "            c    R      G     B\n",
      "0      146078  0.0    0.0   0.0\n",
      "1       32768  0.0    0.0   1.0\n",
      "2       32768  0.0    0.0   2.0\n",
      "3      146078  0.0    0.0   3.0\n",
      "4         255  0.0    0.0   4.0\n",
      "...       ...  ...    ...   ...\n",
      "53790   32768  0.0  210.0  30.0\n",
      "53791   32768  0.0  210.0  31.0\n",
      "53792  838873  0.0  210.0  32.0\n",
      "53793     255  0.0  210.0  33.0\n",
      "53794   32768  0.0  210.0  34.0\n",
      "\n",
      "[53795 rows x 4 columns]\n"
     ]
    }
   ],
   "source": [
    "y_df = pd.DataFrame(y,columns=['c'])\n",
    "X_df = pd.DataFrame(X,columns=['R', 'G', 'B'])\n",
    "f_df = y_df.join(X_df)\n",
    "print(f_df)\n",
    "f_df.to_csv('complete_data.csv', index=False)"
   ]
  },
  {
   "cell_type": "code",
   "execution_count": null,
   "metadata": {},
   "outputs": [
    {
     "data": {
      "text/plain": [
       "\"import numpy as py\\nimport matplotlib.pyplot as plt\\nimport pandas as pd\\nimport holoviews as hv\\nfrom holoviews import dim, opts\\nfrom holoviews.operation.datashader import datashade\\n\\nhv.extension('matplotlib')\\ndf = pd.read_csv('complete_data.csv')\\nc = pd.to_numeric(df['c'])\\nr = pd.to_numeric(df['R'])\\ng = pd.to_numeric(df['G']) \\nb = pd.to_numeric(df['B'])\\ndatashade(hv.Scatter3D((r,g,b)))\""
      ]
     },
     "execution_count": 40,
     "metadata": {},
     "output_type": "execute_result"
    }
   ],
   "source": [
    "\"\"\"import numpy as py\n",
    "import matplotlib.pyplot as plt\n",
    "import pandas as pd\n",
    "import holoviews as hv\n",
    "from holoviews import dim, opts\n",
    "from holoviews.operation.datashader import datashade\n",
    "\n",
    "hv.extension('matplotlib')\n",
    "df = pd.read_csv('complete_data.csv')\n",
    "c = pd.to_numeric(df['c'])\n",
    "r = pd.to_numeric(df['R'])\n",
    "g = pd.to_numeric(df['G']) \n",
    "b = pd.to_numeric(df['B'])\n",
    "datashade(hv.Scatter3D((r,g,b)))\"\"\"\n"
   ]
  }
 ],
 "metadata": {
  "interpreter": {
   "hash": "9fb7d8473542c2253b0c4cef5ee22a12ea1ae14de980fa20b301bac64011678e"
  },
  "kernelspec": {
   "display_name": "Python 3.8.8 64-bit ('base': conda)",
   "language": "python",
   "name": "python3"
  },
  "language_info": {
   "codemirror_mode": {
    "name": "ipython",
    "version": 3
   },
   "file_extension": ".py",
   "mimetype": "text/x-python",
   "name": "python",
   "nbconvert_exporter": "python",
   "pygments_lexer": "ipython3",
   "version": "3.8.8"
  },
  "orig_nbformat": 4
 },
 "nbformat": 4,
 "nbformat_minor": 2
}
